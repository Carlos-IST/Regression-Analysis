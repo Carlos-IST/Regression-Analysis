{
 "cells": [
  {
   "cell_type": "markdown",
   "metadata": {
    "collapsed": true
   },
   "source": [
    "# Regresión Polinomial"
   ]
  },
  {
   "cell_type": "markdown",
   "metadata": {},
   "source": [
    "#### Elaborado por: Carlos Santillán"
   ]
  },
  {
   "cell_type": "markdown",
   "metadata": {},
   "source": [
    "Con este ejemplo se pretende contestar a la pregunta **¿Se pueden usar modelos lineales para modelar datos no-lineales?**"
   ]
  },
  {
   "cell_type": "markdown",
   "metadata": {},
   "source": [
    "Primero, generemos datos aleatorios"
   ]
  },
  {
   "cell_type": "code",
   "execution_count": 2,
   "metadata": {},
   "outputs": [],
   "source": [
    "## Paquetería a usar\n",
    "import operator\n",
    "import numpy as np                  ### numpy sirve para manejar matrices\n",
    "import matplotlib.pyplot as plt     ### matplotlib sirve para graficar\n",
    "%matplotlib inline\n",
    "\n",
    "np.random.seed(0)                   ### fijamos la semilla para aleatoriedad\n",
    "\n",
    "x = 2 - 3 * np.random.normal(0, 1, 20)\n",
    "y = x - 2 * (x ** 2) + 0.5 * (x ** 3) + np.random.normal(-3, 3, 20)"
   ]
  },
  {
   "cell_type": "markdown",
   "metadata": {},
   "source": [
    "Los datos generados se ven de la siguiente manera"
   ]
  },
  {
   "cell_type": "code",
   "execution_count": 3,
   "metadata": {},
   "outputs": [
    {
     "data": {
      "image/png": "[encoded data removed]",
      "text/plain": [
       "<Figure size 432x288 with 1 Axes>"
      ]
     },
     "metadata": {},
     "output_type": "display_data"
    }
   ],
   "source": [
    "plt.scatter(x, y, s = 10)       ### comando paga generar gráfico de dispersión\n",
    "plt.show()                      ### muestra la gráfica"
   ]
  },
  {
   "cell_type": "markdown",
   "metadata": {},
   "source": [
    "Apliquemos **regresión lineal** a nuestros datos:"
   ]
  },
  {
   "cell_type": "code",
   "execution_count": 9,
   "metadata": {},
   "outputs": [
    {
     "name": "stdout",
     "output_type": "stream",
     "text": [
      "El error cuadrático medio es: 15.908242501429998\nEl valor de R2 es: 0.6386750054827146\n"
     ]
    }
   ],
   "source": [
    "from sklearn.linear_model import LinearRegression       ### Esta librería sirve para modelos estadísticos\n",
    "\n",
    "np.random.seed(0)       ### Nuevamente fijamos semilla para aleatoriedad \n",
    "\n",
    "x = 2 - 3 * np.random.normal(0, 1, 20)\n",
    "y = x - 2 * (x ** 2) + 0.5 * (x ** 3) + np.random.normal(-3, 3, 20)\n",
    "\n",
    "## Transformamos los datos para incluir otro eje\n",
    "x = x[:, np.newaxis]\n",
    "y = y[:, np.newaxis]\n",
    "\n",
    "model = LinearRegression()      ### Se convoca método de Regresión Lineal\n",
    "model.fit(x, y)                 ### Se ajusta el modelo\n",
    "y_pred = model.predict(x)       ### Se obtienen los valores pronosticados\n",
    "\n",
    "rmse = np.sqrt(mean_squared_error(y,y_pred))\n",
    "r2 = r2_score(y,y_pred)\n",
    "print('El error cuadrático medio es: ' + str(rmse))\n",
    "print('El valor de R2 es: ' + str(r2))\n"
   ]
  },
  {
   "cell_type": "markdown",
   "metadata": {},
   "source": [
    "La gráfica con la recta que mejor adecua al modelo es la siguiente:"
   ]
  },
  {
   "cell_type": "code",
   "execution_count": 5,
   "metadata": {},
   "outputs": [
    {
     "data": {
      "image/png": "[encoded data removed]",
      "text/plain": [
       "<Figure size 432x288 with 1 Axes>"
      ]
     },
     "metadata": {},
     "output_type": "display_data"
    }
   ],
   "source": [
    "plt.scatter(x, y, s=10)         ### Obtenemos gráfico de dispersión\n",
    "plt.plot(x, y_pred, color='r')  ### Obtenemos la gráica de la recta que ajusta al modelo\n",
    "plt.show()                      ### Muestra gráficos"
   ]
  },
  {
   "cell_type": "markdown",
   "metadata": {},
   "source": [
    "Podemos ver que la recta obtenida por el modelo de regresión lineal simple no logra capturar adecuadamente los patrones de nuestros datos.\n",
    "\n",
    "- Este es un ejemplo de **sub-ajuste de curva**"
   ]
  },
  {
   "cell_type": "markdown",
   "metadata": {},
   "source": [
    "**Para solucionar el sub-ajuste, debemos incrementar la complejidad del modelo**"
   ]
  },
  {
   "cell_type": "markdown",
   "metadata": {},
   "source": [
    "Pasamos de un modelo lineal de tipo:\n",
    "$Y = \\theta_{0} + \\theta_{1}x$\n",
    "\n",
    "A un modelo cuadrático de tipo:\n",
    "$Y = \\theta_{0} + \\theta_{1}x + \\theta_{2} x^{2}$"
   ]
  },
  {
   "cell_type": "markdown",
   "metadata": {},
   "source": [
    "Nótese que este sigue siendo un **modelo lineal**, puesto que los coeficientes asociados a los datos siguen siendo lineales.\n",
    "\n",
    "- $x^{2}$ representa datos, pero $\\theta_{2}$ es lineal, sin embargo, la curva que ajustaremos es de naturaleza cuadrática."
   ]
  },
  {
   "cell_type": "markdown",
   "metadata": {},
   "source": [
    "- Para pasar nuestros datos en términos de un mayor orden, usaremos la clase *PolynomialFeatures* que se encuentra en la librería de *scikit-learn*"
   ]
  },
  {
   "cell_type": "code",
   "execution_count": 8,
   "metadata": {},
   "outputs": [
    {
     "name": "stdout",
     "output_type": "stream",
     "text": [
      "El error cuadrático medio es: 10.120437473614711\nEl valor de R2 es: 0.8537647164420812\n"
     ]
    }
   ],
   "source": [
    "from sklearn.metrics import mean_squared_error, r2_score\n",
    "from sklearn.preprocessing import PolynomialFeatures\n",
    "\n",
    "np.random.seed(0)\n",
    "x = 2 - 3 * np.random.normal(0, 1, 20)\n",
    "y = x - 2 * (x ** 2) + 0.5 * (x ** 3) + np.random.normal(-3, 3, 20)\n",
    "\n",
    "# transformamos los datos para incluir un nuevo vector\n",
    "x = x[:, np.newaxis]\n",
    "y = y[:, np.newaxis]\n",
    "\n",
    "datos_polinomiales= PolynomialFeatures(degree=2)\n",
    "x_polinomial = datos_polinomiales.fit_transform(x)\n",
    "\n",
    "modelo = LinearRegression()\n",
    "modelo.fit(x_polinomial, y)\n",
    "y_polinomial_pred = modelo.predict(x_polinomial)\n",
    "\n",
    "rmse = np.sqrt(mean_squared_error(y,y_polinomial_pred))\n",
    "r2 = r2_score(y,y_polinomial_pred)\n",
    "print('El error cuadrático medio es: ' + str(rmse))\n",
    "print('El valor de R2 es: ' + str(r2))"
   ]
  },
  {
   "cell_type": "markdown",
   "metadata": {},
   "source": [
    "Podemos visualizar el gráfico de la siguiente forma:"
   ]
  },
  {
   "cell_type": "code",
   "execution_count": 11,
   "metadata": {},
   "outputs": [
    {
     "data": {
      "image/png": "[encoded data removed]",
      "text/plain": [
       "<Figure size 432x288 with 1 Axes>"
      ]
     },
     "metadata": {},
     "output_type": "display_data"
    }
   ],
   "source": [
    "import operator\n",
    "\n",
    "plt.scatter(x, y, s=10)\n",
    "\n",
    "# ordenamos los valores de x\n",
    "ordena_eje = operator.itemgetter(0)\n",
    "sorted_zip = sorted(zip(x,y_polinomial_pred), key=ordena_eje)\n",
    "\n",
    "x, y_polinomial_pred = zip(*sorted_zip)\n",
    "plt.plot(x, y_polinomial_pred, color='m')\n",
    "plt.show()"
   ]
  },
  {
   "cell_type": "markdown",
   "metadata": {},
   "source": [
    "Es notoria la mejora en el ajuste de los datos, además podemos observar que disminuyó el RMSE y aumentó la $R^{2}$"
   ]
  },
  {
   "cell_type": "markdown",
   "metadata": {},
   "source": [
    "### Variaciones en el grado del polinomio"
   ]
  },
  {
   "cell_type": "markdown",
   "metadata": {},
   "source": [
    "Es posible que el ajuste adecuado se obtenga con un grado mayor a 2, en este caso veamos qué sucede si nuestro polinomio es de grado 3"
   ]
  },
  {
   "cell_type": "code",
   "execution_count": 12,
   "metadata": {},
   "outputs": [
    {
     "name": "stdout",
     "output_type": "stream",
     "text": [
      "El error cuadrático medio es: 3.449895507408725\nEl valor de R2 es: 0.9830071790386679\n"
     ]
    }
   ],
   "source": [
    "from sklearn.metrics import mean_squared_error, r2_score\n",
    "from sklearn.preprocessing import PolynomialFeatures\n",
    "\n",
    "np.random.seed(0)\n",
    "x = 2 - 3 * np.random.normal(0, 1, 20)\n",
    "y = x - 2 * (x ** 2) + 0.5 * (x ** 3) + np.random.normal(-3, 3, 20)\n",
    "\n",
    "# transformamos los datos para incluir un nuevo vector\n",
    "x = x[:, np.newaxis]\n",
    "y = y[:, np.newaxis]\n",
    "\n",
    "datos_polinomiales= PolynomialFeatures(degree=3)\n",
    "x_polinomial = datos_polinomiales.fit_transform(x)\n",
    "\n",
    "modelo = LinearRegression()\n",
    "modelo.fit(x_polinomial, y)\n",
    "y_polinomial_pred = modelo.predict(x_polinomial)\n",
    "\n",
    "rmse = np.sqrt(mean_squared_error(y,y_polinomial_pred))\n",
    "r2 = r2_score(y,y_polinomial_pred)\n",
    "print('El error cuadrático medio es: ' + str(rmse))\n",
    "print('El valor de R2 es: ' + str(r2))"
   ]
  },
  {
   "cell_type": "markdown",
   "metadata": {},
   "source": [
    "Y observemos también la siguiente gráfica:"
   ]
  },
  {
   "cell_type": "code",
   "execution_count": 13,
   "metadata": {},
   "outputs": [
    {
     "data": {
      "image/png": "[encoded data removed]",
      "text/plain": [
       "<Figure size 432x288 with 1 Axes>"
      ]
     },
     "metadata": {},
     "output_type": "display_data"
    }
   ],
   "source": [
    "import operator\n",
    "\n",
    "plt.scatter(x, y, s=10)\n",
    "\n",
    "# ordenamos los valores de x\n",
    "ordena_eje = operator.itemgetter(0)\n",
    "sorted_zip = sorted(zip(x,y_polinomial_pred), key=ordena_eje)\n",
    "\n",
    "x, y_polinomial_pred = zip(*sorted_zip)\n",
    "plt.plot(x, y_polinomial_pred, color='m')\n",
    "plt.show()"
   ]
  },
  {
   "cell_type": "markdown",
   "metadata": {},
   "source": [
    "Este nuevo ajuste pasa por más puntos que el de grado 2, observamos que de nuevo el RMSE disminuyó y $R^{2}$ aumentó con respecto al caso anterior."
   ]
  },
  {
   "cell_type": "markdown",
   "metadata": {},
   "source": [
    "Parece ser que mientras mayor sea el grado de los polinomios, mejor es el ajuste en cuanto a los datos."
   ]
  },
  {
   "cell_type": "markdown",
   "metadata": {},
   "source": [
    "Tomemos un caso extremo: ajustemos mediante polinomios de grado 20"
   ]
  },
  {
   "cell_type": "code",
   "execution_count": 14,
   "metadata": {},
   "outputs": [
    {
     "name": "stdout",
     "output_type": "stream",
     "text": [
      "El error cuadrático medio es: 1.1131423504333375\nEl valor de R2 es: 0.9982308892895131\n"
     ]
    }
   ],
   "source": [
    "from sklearn.metrics import mean_squared_error, r2_score\n",
    "from sklearn.preprocessing import PolynomialFeatures\n",
    "\n",
    "np.random.seed(0)\n",
    "x = 2 - 3 * np.random.normal(0, 1, 20)\n",
    "y = x - 2 * (x ** 2) + 0.5 * (x ** 3) + np.random.normal(-3, 3, 20)\n",
    "\n",
    "# transformamos los datos para incluir un nuevo vector\n",
    "x = x[:, np.newaxis]\n",
    "y = y[:, np.newaxis]\n",
    "\n",
    "datos_polinomiales= PolynomialFeatures(degree=20)\n",
    "x_polinomial = datos_polinomiales.fit_transform(x)\n",
    "\n",
    "modelo = LinearRegression()\n",
    "modelo.fit(x_polinomial, y)\n",
    "y_polinomial_pred = modelo.predict(x_polinomial)\n",
    "\n",
    "rmse = np.sqrt(mean_squared_error(y,y_polinomial_pred))\n",
    "r2 = r2_score(y,y_polinomial_pred)\n",
    "print('El error cuadrático medio es: ' + str(rmse))\n",
    "print('El valor de R2 es: ' + str(r2))"
   ]
  },
  {
   "cell_type": "markdown",
   "metadata": {},
   "source": [
    "Y nuestra gráfica es la siguiente:"
   ]
  },
  {
   "cell_type": "code",
   "execution_count": 16,
   "metadata": {},
   "outputs": [
    {
     "data": {
      "image/png": "[encoded data removed]",
      "text/plain": [
       "<Figure size 432x288 with 1 Axes>"
      ]
     },
     "metadata": {},
     "output_type": "display_data"
    }
   ],
   "source": [
    "import operator\n",
    "\n",
    "plt.scatter(x, y, s=10)\n",
    "\n",
    "# ordenamos los valores de x\n",
    "ordena_eje = operator.itemgetter(0)\n",
    "sorted_zip = sorted(zip(x,y_polinomial_pred), key=ordena_eje)\n",
    "\n",
    "x, y_polinomial_pred = zip(*sorted_zip)\n",
    "plt.plot(x, y_polinomial_pred, color='m')\n",
    "plt.show()"
   ]
  },
  {
   "cell_type": "markdown",
   "metadata": {},
   "source": [
    "Ajustando con polinomios de grado 20, aseguramos que prácticamente se pase por todos los puntos de los datos.\n",
    "\n",
    "- Obsérvese que, de nuevo, el RMSE ha disminuido mientras que $R^{2}$ ha aumentado."
   ]
  },
  {
   "cell_type": "markdown",
   "metadata": {},
   "source": [
    "Sin embargo, este ajuste en realidad también está ajustando el polinomio a los datos que son meramente ruido, a esto se le llama **sobre-ajuste**.\n",
    "\n",
    "- Dado que nuestro ajuste pasa por la mayoría de los datos (incluyendo los que son ruido), fallará cuando queramos hacer generalizaciones sobre los datos no observados (pues puede ubicarlos en posiciones que los convertirían en ruido)"
   ]
  },
  {
   "cell_type": "markdown",
   "metadata": {},
   "source": [
    "## Sobre-ajuste vs. Sub-ajuste "
   ]
  },
  {
   "cell_type": "markdown",
   "metadata": {},
   "source": [
    "- Cuando el ajuste polinomial es de un grado insuficiente (i.e. chico con respecto al comportamiento de nuestros datos) es posible que nos encontremos en un caso de **sub-ajuste**.\n",
    "\n",
    "\t- Para solucionarlo, es necesario aumentar la complejidad del modelo. Esto se logra ya sea pasando de un ajuste lineal a uno polinomial (la opción inmediata siguiente sería de orden cuadrático) o de un polinomio de grado menor a uno de grado mayor.\n",
    "\n",
    "- Cuando el ajuste polinomial es de un grado muy alto (i.e. muy grande con respecto al comportamiento de nuestros datos) es posible que nos encontremos en un caso de **sobre-ajuste**.\n",
    "\n",
    "\t- Para solucionarlo, es necesario añadir más muestras (datos) al modelo para prevenir que nuestro modelo \"aprenda\" sobre el ruido en el sistema y nos de resultados más generalizados.\n",
    "\n",
    "\t- De cualquier forma, siempre existe el riesgo de que al añadir más datos, también se esté añadiendo más ruido."
   ]
  },
  {
   "cell_type": "markdown",
   "metadata": {},
   "source": [
    "¿Cómo seleccionamos el modelo óptimo para nuestros datos?"
   ]
  },
  {
   "cell_type": "markdown",
   "metadata": {},
   "source": [
    "## Trade-off de Varianza-Sesgo"
   ]
  },
  {
   "cell_type": "markdown",
   "metadata": {},
   "source": [
    "- **Sesgo**: se refiere al error dado por una aproximación \"simplista\" del modelo para ajustar los datos.\n",
    "\n",
    "\t- Un alto nivel de sesgo implica que nuestro modelo no es capaz de *entender* los patrones en los datos; esto puede resultar en **sub-ajuste**\n",
    "\n",
    "- **Varianza**: se refiere al error dado por una aproximación muy complejo del modelo para ajustar los datos.\n",
    "\n",
    "\t- Una varianza alta implicaría que nuestro modelo pasa, o mejor dicho, se \"ajusta\" a la mayoría de nuestros datos (incluyendo al ruido) y por ende, tenemos un caso de **sobre-ajuste**"
   ]
  },
  {
   "cell_type": "markdown",
   "metadata": {},
   "source": [
    "Para temas de Machine Learning, el objetivo es tener un modelo con ambas, bajo sesgo y baja varianza; sin embargo, en la práctica es muy difícil obtener este resultado, de modo que se necesita tener en mente el *trade-off* existente entre ambos factores y buscar un punto óptimo."
   ]
  },
  {
   "cell_type": "code",
   "execution_count": null,
   "metadata": {},
   "outputs": [],
   "source": []
  }
 ],
 "metadata": {
  "kernelspec": {
   "display_name": "Python 2",
   "language": "python",
   "name": "python2"
  },
  "language_info": {
   "codemirror_mode": {
    "name": "ipython",
    "version": 2
   },
   "file_extension": ".py",
   "mimetype": "text/x-python",
   "name": "python",
   "nbconvert_exporter": "python",
   "pygments_lexer": "ipython2",
   "version": "2.7.6"
  }
 },
 "nbformat": 4,
 "nbformat_minor": 0
}
