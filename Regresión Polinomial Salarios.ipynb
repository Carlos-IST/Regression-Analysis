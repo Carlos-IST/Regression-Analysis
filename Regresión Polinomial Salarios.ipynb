{
 "cells": [
  {
   "cell_type": "markdown",
   "metadata": {
    "collapsed": true
   },
   "source": [
    "# Ejemplo 1 de Regresión Polinomial"
   ]
  },
  {
   "cell_type": "markdown",
   "metadata": {},
   "source": [
    "# Estimación de salarios"
   ]
  },
  {
   "cell_type": "markdown",
   "metadata": {},
   "source": [
    "#### Elaborado por Carlos Santillán"
   ]
  },
  {
   "cell_type": "markdown",
   "metadata": {},
   "source": [
    "## Importamos las librerías a usar"
   ]
  },
  {
   "cell_type": "code",
   "execution_count": 3,
   "metadata": {},
   "outputs": [],
   "source": [
    "import numpy as np\n",
    "import matplotlib.pyplot as plt\n",
    "import pandas as pd"
   ]
  },
  {
   "cell_type": "markdown",
   "metadata": {},
   "source": [
    "Contamos con los siguientes datos sobre salarios:"
   ]
  },
  {
   "cell_type": "code",
   "execution_count": 4,
   "metadata": {},
   "outputs": [
    {
     "name": "stdout",
     "output_type": "stream",
     "text": [
      "            Position  Level   Salary\n0           Analista      1    45000\n1       Consultor Jr      2    50000\n2       Consultor Sr      3    60000\n3            Gerente      4    80000\n4     Director Local      5   110000\n5  Director Regional      6   150000\n6              Socio      7   200000\n7           Socio Sr      8   300000\n8            C-level      9   500000\n9                CEO     10  1000000\n"
     ]
    }
   ],
   "source": [
    "datos_salarios = pd.read_csv('C:/Users/PC/Desktop/ULSA/6 Semestre/Series de Tiempo/salarios.csv')\n",
    "X = datos_salarios.iloc[:, 1:2].values\n",
    "y = datos_salarios.iloc[:, 2].values\n",
    "print(datos_salarios)"
   ]
  },
  {
   "cell_type": "markdown",
   "metadata": {},
   "source": [
    "### Explicación del código"
   ]
  },
  {
   "cell_type": "markdown",
   "metadata": {},
   "source": [
    "- **datos_salarios = pd.read_csv(...)**: sirve para leer los datos en formato .csv, estos datos se asignan al DataFrame *datos_salarios*\n",
    "\n",
    "- **X**: es la segunda columna de nuestra tabla, contiene los niveles salariales\n",
    "\n",
    "- **Y**: la tercera columna del DataFrame, contiene los salarios"
   ]
  },
  {
   "cell_type": "markdown",
   "metadata": {},
   "source": [
    "Graficamos los salarios:"
   ]
  },
  {
   "cell_type": "code",
   "execution_count": 5,
   "metadata": {},
   "outputs": [],
   "source": [
    "plt.plot(datos_salarios['Salary'])\n",
    "plt.show()"
   ]
  },
  {
   "cell_type": "markdown",
   "metadata": {},
   "source": [
    "Claramente podemos ver que la relación que existe entre los salarios y los niveles no es lineal"
   ]
  },
  {
   "cell_type": "markdown",
   "metadata": {},
   "source": [
    "## Definimos nuestros Datos de Prueba y Entrenamiento"
   ]
  },
  {
   "cell_type": "code",
   "execution_count": 6,
   "metadata": {},
   "outputs": [],
   "source": [
    "from sklearn.model_selection import train_test_split \n",
    "X_train, X_test, y_train, y_test = train_test_split(X, y, test_size=0.2, random_state=0)"
   ]
  },
  {
   "cell_type": "markdown",
   "metadata": {},
   "source": [
    "#### Explicación del código:"
   ]
  },
  {
   "cell_type": "markdown",
   "metadata": {},
   "source": [
    "- **test_size = 0.2**: dividiremos las 10 observaciones de nuestros datos en dos partes, los *datos de prueba* y los *datos de entrenamiento*, nuestro conjunto de *datos de prueba* será construido a razón de 0.2 a partir de los datos originales i.e la 5a parte de dichos datos.\n",
    "\n",
    "- **train_size**: asigna el resto de los datos al *conjunto de entrenamiento*\n",
    "\n",
    "- **random_state**: fijamos la semilla para generar números aleatorios.\n"
   ]
  },
  {
   "cell_type": "markdown",
   "metadata": {},
   "source": [
    "## Modelo de Regresión"
   ]
  },
  {
   "cell_type": "markdown",
   "metadata": {},
   "source": [
    "Una vez definidos los conjuntos de *entrenamiento* y *prueba*, debemos emplear los modelos de regresión adecuados.\n",
    "\n",
    "Para contrastar, primero someteremos los datos al modelo de **Regresión Lineal Simple**"
   ]
  },
  {
   "cell_type": "markdown",
   "metadata": {},
   "source": [
    "### Regresión Lineal Simple"
   ]
  },
  {
   "cell_type": "code",
   "execution_count": 7,
   "metadata": {},
   "outputs": [
    {
     "data": {
      "text/plain": [
       "LinearRegression(copy_X=True, fit_intercept=True, n_jobs=None,\n         normalize=False)"
      ]
     },
     "execution_count": 7,
     "metadata": {},
     "output_type": "execute_result"
    }
   ],
   "source": [
    "from sklearn.linear_model import LinearRegression\n",
    "lin_reg = LinearRegression()\n",
    "lin_reg.fit(X, y)"
   ]
  },
  {
   "cell_type": "markdown",
   "metadata": {},
   "source": [
    "#### Explicación del código:"
   ]
  },
  {
   "cell_type": "markdown",
   "metadata": {},
   "source": [
    "- **sklearn**: librería que contiene diversos métodos estadísticos, hace un \"clon\" de R para uso en Python\n",
    "\n",
    "- **LinearRegression()**: sirve para indicar la variable a la que se le asignará la regresión\n",
    "\n",
    "- **fit(X, y)**: genera la regresión tomando como variable dependiente *y* e independiente *X*"
   ]
  },
  {
   "cell_type": "markdown",
   "metadata": {},
   "source": [
    "#### Visualizamos el resultado de la Regresión Lineal Simple"
   ]
  },
  {
   "cell_type": "code",
   "execution_count": 8,
   "metadata": {},
   "outputs": [],
   "source": [
    "def visualiza_regresion_lineal():\n",
    "    plt.scatter(X, y, color='red')\n",
    "    plt.plot(X, lin_reg.predict(X), color='blue')\n",
    "    plt.title('Regresión Lineal, ¿Funciona?')\n",
    "    plt.xlabel('Nivel salarial')\n",
    "    plt.ylabel('Salario')\n",
    "    plt.show()\n",
    "    return\n",
    "\n",
    "visualiza_regresion_lineal()"
   ]
  },
  {
   "cell_type": "markdown",
   "metadata": {},
   "source": [
    "#### Explicación del código:"
   ]
  },
  {
   "cell_type": "markdown",
   "metadata": {},
   "source": [
    "- **visualiza_regresion_lineal()**: función construida por nosotros, no tiene ningún argumento; sirve para gráficar el resultado de la Regresión Lineal previamente implementada.\n",
    "\n",
    "- **plt.scatter(X, y, color='red'**: graficamos *X* y *y* con dispersión, los puntos serán de color rojo\n",
    "\n",
    "- **plt.title()**: damos el encabezado de la gráfica\n",
    "\n",
    "- **plt.xlabel(), plt.ylabel()**: damos los nombres de los ejes *x* y *y* respectivamente\n",
    "\n",
    "- **plt.show()**: muestra el gráfico con todas las especificaciones previas. Es importante que sea el último comando en la serie de especificaciones (si se agregan especificaciones después de éste, no aparecerán en el gráfico)\n",
    "\n",
    "- **return**: por sintaxis de Python, todas las funciones se cierran con este comando. Se puede especificar qué se desea que regrese la función. En términos matemáticos, es el valor de *f(x)*"
   ]
  },
  {
   "cell_type": "markdown",
   "metadata": {},
   "source": [
    "A partir de nuestro gráfico, ya podemos notar que la Regresión Lineal Simple no se ajusta adecuadamente a nuestros datos, de modo que una predicción hecha sobre este modelo sería erronea. Contrastemos entonces con la Regresión Polinomial"
   ]
  },
  {
   "cell_type": "markdown",
   "metadata": {},
   "source": [
    "### Regresión Polinomial"
   ]
  },
  {
   "cell_type": "code",
   "execution_count": 9,
   "metadata": {},
   "outputs": [
    {
     "data": {
      "text/plain": [
       "LinearRegression(copy_X=True, fit_intercept=True, n_jobs=None,\n         normalize=False)"
      ]
     },
     "execution_count": 9,
     "metadata": {},
     "output_type": "execute_result"
    }
   ],
   "source": [
    "from sklearn.preprocessing import PolynomialFeatures\n",
    "poly_reg = PolynomialFeatures(degree=4)\n",
    "X_poly = poly_reg.fit_transform(X)\n",
    "pol_reg = LinearRegression()\n",
    "pol_reg.fit(X_poly, y)"
   ]
  },
  {
   "cell_type": "markdown",
   "metadata": {},
   "source": [
    "#### Explicación del código:"
   ]
  },
  {
   "cell_type": "markdown",
   "metadata": {},
   "source": [
    "- **PolynomialFeatures**: librería que sirve para ajustes por polinomios\n",
    "\n",
    "- **poly_reg**: en esta variable guardaremos nuestro polinomio de grado 4 (degree=4)\n",
    "\n",
    "- **X_poly**: en esta variable guardaremos nuestros datos de *X* transformados en polinomio\n"
   ]
  },
  {
   "cell_type": "markdown",
   "metadata": {},
   "source": [
    "#### Visualizamos los resultados de la Regresión Polinomial"
   ]
  },
  {
   "cell_type": "code",
   "execution_count": 10,
   "metadata": {},
   "outputs": [],
   "source": [
    "def visualiza_regresion_polinomial():\n",
    "    plt.scatter(X, y, color='red')\n",
    "    plt.plot(X, pol_reg.predict(poly_reg.fit_transform(X)), color='blue')\n",
    "    plt.title('Regresión Polinomial')\n",
    "    plt.xlabel('Nivel salarial')\n",
    "    plt.ylabel('Salario')\n",
    "    plt.show()\n",
    "    return\n",
    "\n",
    "visualiza_regresion_polinomial()"
   ]
  },
  {
   "cell_type": "markdown",
   "metadata": {},
   "source": [
    "Es notoria la mejora en el ajuste de los datos. De manera visual se puede concluir que la Regresión Polinomial nos dio un mejor ajuste que su contraparte lineal. Ahora veamos qué sucede en efectos de la predicción."
   ]
  },
  {
   "cell_type": "markdown",
   "metadata": {},
   "source": [
    "### Predicciones bajo ambos modelos"
   ]
  },
  {
   "cell_type": "markdown",
   "metadata": {},
   "source": [
    "Según nuestros datos, ¿cuál debería ser el salario para una persona que tiene 5.5 años de experiencia laboral?"
   ]
  },
  {
   "cell_type": "markdown",
   "metadata": {},
   "source": [
    "#### Predicción bajo Regresión Lineal Simple"
   ]
  },
  {
   "cell_type": "code",
   "execution_count": 11,
   "metadata": {},
   "outputs": [
    {
     "data": {
      "text/plain": [
       "array([249500.])"
      ]
     },
     "execution_count": 11,
     "metadata": {},
     "output_type": "execute_result"
    }
   ],
   "source": [
    "lin_reg.predict([[5.5]])\n"
   ]
  },
  {
   "cell_type": "markdown",
   "metadata": {},
   "source": [
    "Bajo el modelo de Regresión Lineal Simple, el salario para alguien con 5 años y medio de experiencia es de *$249,500*"
   ]
  },
  {
   "cell_type": "markdown",
   "metadata": {},
   "source": [
    "#### Predicción bajo Regresión Polinomial"
   ]
  },
  {
   "cell_type": "code",
   "execution_count": 12,
   "metadata": {},
   "outputs": [
    {
     "data": {
      "text/plain": [
       "array([132148.43750008])"
      ]
     },
     "execution_count": 12,
     "metadata": {},
     "output_type": "execute_result"
    }
   ],
   "source": [
    "\n",
    "pol_reg.predict(poly_reg.fit_transform([[5.5]]))\n"
   ]
  },
  {
   "cell_type": "markdown",
   "metadata": {},
   "source": [
    "Bajo el modelo de Regresión Polinomial, el salario para esa misma persona es de *$132,148.43*"
   ]
  },
  {
   "cell_type": "markdown",
   "metadata": {},
   "source": [
    "## Conclusiones"
   ]
  },
  {
   "cell_type": "markdown",
   "metadata": {},
   "source": [
    "Es evidente que las predicciones entre el modelo lineal y el polinomial son muy distintas (la diferencia son más de $100,000)\n",
    "\n",
    "Si observamos nuestra gráfica de datos original, podemos ver que el salario esperado para alguien con 5 años y medio de experiencia debe estar en el rango de *$110,000* a *$150,000*, pero la predicción según el modelo lineal es de *$249,500*.\n",
    "\n",
    "Nótese que nuestra predicción bajo el modelo polinomial es de *$132,148.43*, el cual entra perfectamente en el rango."
   ]
  },
  {
   "cell_type": "code",
   "execution_count": null,
   "metadata": {},
   "outputs": [],
   "source": []
  }
 ],
 "metadata": {
  "kernelspec": {
   "display_name": "Python 2",
   "language": "python",
   "name": "python2"
  },
  "language_info": {
   "codemirror_mode": {
    "name": "ipython",
    "version": 2
   },
   "file_extension": ".py",
   "mimetype": "text/x-python",
   "name": "python",
   "nbconvert_exporter": "python",
   "pygments_lexer": "ipython2",
   "version": "2.7.6"
  }
 },
 "nbformat": 4,
 "nbformat_minor": 0
}
